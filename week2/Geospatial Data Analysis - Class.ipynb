{
 "cells": [
  {
   "cell_type": "markdown",
   "id": "dfa861f6-4acb-460c-807a-b0b42ffba950",
   "metadata": {},
   "source": [
    "# Geospatial Data Analysis"
   ]
  },
  {
   "cell_type": "code",
   "execution_count": null,
   "id": "f79eaf7a-3b6b-47cf-b1c3-7fd0f64ad9b4",
   "metadata": {},
   "outputs": [],
   "source": [
    "import geopandas\n",
    "import re\n",
    "import pandas as pd\n",
    "import folium\n",
    "import requests\n",
    "import time\n",
    "from tqdm import tqdm\n",
    "import matplotlib.pyplot as plt\n",
    "pd.options.mode.chained_assignment = None"
   ]
  },
  {
   "cell_type": "markdown",
   "id": "fba0873b-6361-4654-a5ac-536aac595edd",
   "metadata": {},
   "source": [
    "## 1. Master Plan 2019  \n",
    "\n",
    "In this section, we explore the geospatial data for URA's Master Plan 2019 - specifically the subzones data as well as the land use data. We will be using this as an opportunity to learn how to read, clean, analyse, and visualise geospatial data relating to areas (polygons)."
   ]
  },
  {
   "cell_type": "markdown",
   "id": "ff3fb269-6512-4dd7-8cb6-ff4f30fa0507",
   "metadata": {},
   "source": [
    "### 1.1 MP19 Planning Area and Subzones\n",
    "\n",
    "We start by exploring the planning areas and subzones in the Master Plan 2019. Download the GeoJSON file from `data.gov.sg` [here](https://beta.data.gov.sg/datasets/d_8594ae9ff96d0c708bc2af633048edfb/view)."
   ]
  },
  {
   "cell_type": "code",
   "execution_count": null,
   "id": "c1cccaeb-0a3d-4add-be83-ed58368cbffd",
   "metadata": {},
   "outputs": [],
   "source": [
    "MP19_Subzone = geopandas.read_file(\"MasterPlan2019SubzoneBoundaryNoSeaGEOJSON.geojson\")"
   ]
  },
  {
   "cell_type": "code",
   "execution_count": null,
   "id": "a816c6a3-8846-4dcd-b402-37ea2c6a0cf5",
   "metadata": {},
   "outputs": [],
   "source": [
    "# Look at the structure of the dataset\n",
    "MP19_Subzone.head()"
   ]
  },
  {
   "cell_type": "code",
   "execution_count": null,
   "id": "700bb22e-1026-4f16-89c6-1b913ac2a154",
   "metadata": {},
   "outputs": [],
   "source": [
    "# Observe how messy the description tag is\n",
    "MP19_Subzone['Description'][0]"
   ]
  },
  {
   "cell_type": "code",
   "execution_count": null,
   "id": "8fcebf44-8aa8-4bf2-91ca-c5299354007b",
   "metadata": {},
   "outputs": [],
   "source": [
    "# Write a simple function to extract the region, planning area, and subzone from the HTML string\n",
    "def extract_subzone_description(string):\n",
    "    results = re.findall('<td>([A-Z0-9&/\\-()\\' ]*)</td>', string)\n",
    "    if len(results) >= 2:\n",
    "        return {\n",
    "            'Subzone': results[1],\n",
    "            'Planning Area': results[4],\n",
    "            'Region': results[7]\n",
    "        }\n",
    "    else:\n",
    "        raise AssertionError(\"No subzone data detected\")"
   ]
  },
  {
   "cell_type": "code",
   "execution_count": null,
   "id": "a60c05b2-92d9-4de2-ab47-578eeeb82112",
   "metadata": {},
   "outputs": [],
   "source": [
    "# Check that it works\n",
    "extract_subzone_description(MP19_Subzone['Description'][0])"
   ]
  },
  {
   "cell_type": "code",
   "execution_count": null,
   "id": "4d3d5f6e-a4cf-49c6-b887-d0332ba94dc2",
   "metadata": {},
   "outputs": [],
   "source": [
    "MP19_Subzone_Additional = MP19_Subzone.apply(lambda row: extract_subzone_description(row.Description), axis = 1, result_type = 'expand')\n",
    "MP19_Subzone = pd.concat([MP19_Subzone, MP19_Subzone_Additional], axis = 1)"
   ]
  },
  {
   "cell_type": "code",
   "execution_count": null,
   "id": "b3cb5f81-9aef-4cf4-9535-84a94cabfa9b",
   "metadata": {},
   "outputs": [],
   "source": [
    "# Check if our function ran correctly\n",
    "MP19_Subzone.head()"
   ]
  },
  {
   "cell_type": "markdown",
   "id": "bba0d152-31ec-4772-bb29-ecb7fcc5e6d5",
   "metadata": {},
   "source": [
    "<span style=\"background-color: #FFFF00\">**Exercise:** How many planning areas and subzones are there in Singapore?</span>"
   ]
  },
  {
   "cell_type": "code",
   "execution_count": null,
   "id": "92ce4b22-880a-4bdb-b98a-9e11a6b00dad",
   "metadata": {},
   "outputs": [],
   "source": [
    "# Fill this part in yourself (two lines only)\n"
   ]
  },
  {
   "cell_type": "markdown",
   "id": "0053fc1b-c57d-430f-8acf-21b3d1cafb5d",
   "metadata": {},
   "source": [
    "<span style=\"background-color: #FFFF00\">**Exercise:** Which region has the most subzones?</span>"
   ]
  },
  {
   "cell_type": "code",
   "execution_count": null,
   "id": "bdb47d31-30fc-4d9c-b0a3-c02a3417ce92",
   "metadata": {},
   "outputs": [],
   "source": [
    "# Fill this part in yourself (one line only)\n"
   ]
  },
  {
   "cell_type": "markdown",
   "id": "968a4b66-4017-4bb7-bfd9-81d9d9a72df1",
   "metadata": {},
   "source": [
    "Let's visualise this using Folium so we can see the different subzones in Singapore. We start with loading the Singapore basemap."
   ]
  },
  {
   "cell_type": "code",
   "execution_count": null,
   "id": "1d98f62e-9013-47e1-a1f0-c5fd5f35755a",
   "metadata": {},
   "outputs": [],
   "source": [
    "MP19_Subzone_Folium = folium.Map(location = (1.359394, 103.814301), zoom_start = 12)\n",
    "MP19_Subzone_Folium"
   ]
  },
  {
   "cell_type": "markdown",
   "id": "16825ecb-55ab-4789-b9f1-1d1fed5fb43c",
   "metadata": {},
   "source": [
    "Let's layer on the subzone data that we have using the GeoJSON file."
   ]
  },
  {
   "cell_type": "code",
   "execution_count": null,
   "id": "9799f2f1-3226-44bb-992d-655170e1db90",
   "metadata": {
    "scrolled": true
   },
   "outputs": [],
   "source": [
    "folium.GeoJson(MP19_Subzone, name = \"MP19 Subzones\").add_to(MP19_Subzone_Folium)\n",
    "MP19_Subzone_Folium"
   ]
  },
  {
   "cell_type": "markdown",
   "id": "24a3cf01-7bb5-49cd-bee6-bbe27c0f5b5c",
   "metadata": {},
   "source": [
    "This looks great! But it's hard to understand which subzone we are looking at. Let's add a tooltip so we can automatically see what subzone our cursor is hovering over. We'll also colour the planning area so we can see where the respec"
   ]
  },
  {
   "cell_type": "code",
   "execution_count": null,
   "id": "6946b1f6-06b8-4824-9b6e-6ca05c579fa7",
   "metadata": {},
   "outputs": [],
   "source": [
    "# Set up the Tableau 20 colour mapping\n",
    "from matplotlib import colormaps, colors\n",
    "planning_area_cmap = {}\n",
    "for i, planningarea in enumerate(MP19_Subzone['Planning Area']):\n",
    "    planning_area_cmap[planningarea] = colors.rgb2hex(colormaps['tab20'].colors[i%20])"
   ]
  },
  {
   "cell_type": "code",
   "execution_count": null,
   "id": "9b2c70d0-39c7-4e2b-a4e4-b26bef8d239e",
   "metadata": {},
   "outputs": [],
   "source": [
    "MP19_Subzone_Folium = folium.Map(location = (1.359394, 103.814301), zoom_start = 12)\n",
    "MP19_Subzone_Tooltip = folium.GeoJsonTooltip(\n",
    "    fields = [\"Subzone\", \"Planning Area\", \"Region\"],\n",
    "    localize = True,\n",
    "    sticky = False,\n",
    "    labels = True,\n",
    "    style = \"\"\"\n",
    "        background-color: #F0EFEF;\n",
    "        border: 0.5px solid black;\n",
    "        border-radius: 3px;\n",
    "        box-shadow: 2px;\n",
    "    \"\"\",\n",
    "    max_width=800,\n",
    ")\n",
    "folium.GeoJson(MP19_Subzone, \n",
    "               name = \"MP19 Subzones\",\n",
    "               tooltip = MP19_Subzone_Tooltip,\n",
    "               style_function = lambda x: {\n",
    "                   \"fillColor\": planning_area_cmap[x[\"properties\"][\"Planning Area\"]],\n",
    "                   'color': '#444444',\n",
    "                   'weight': 0.7,\n",
    "                   \"fillOpacity\": 0.5,\n",
    "               }).add_to(MP19_Subzone_Folium)\n",
    "MP19_Subzone_Folium"
   ]
  },
  {
   "cell_type": "markdown",
   "id": "052aca97-806b-4d13-ae8b-ed303d749c1d",
   "metadata": {},
   "source": [
    "<span style=\"background-color: #FFFF00\">**Class Discussion:** Take a close look at the map above, and think about the following points: </span> \n",
    "* Do the planning areas correspond to what you had expected (especially certain neighbourhoods)?\n",
    "* Is there anything that surprised you? Name an example of a subzone / planning area which was unexpected for you.\n",
    "* How about the regions? Do the regions make sense to you?"
   ]
  },
  {
   "cell_type": "markdown",
   "id": "8a7a18f3-964e-4767-9354-52274dd51102",
   "metadata": {},
   "source": [
    "### 1.2 MP19 Land Use\n",
    "\n",
    "Next, we look at the land use layer to get a better understanding of how Singapore's land is being used. Download the GeoJSON file from `data.gov.sg` [here](https://beta.data.gov.sg/datasets/d_90d86daa5bfaa371668b84fa5f01424f/view).\n",
    "\n"
   ]
  },
  {
   "cell_type": "code",
   "execution_count": null,
   "id": "9c1bf8e3-619b-4129-a413-a43ab3559b96",
   "metadata": {},
   "outputs": [],
   "source": [
    "MP19_LandUse = geopandas.read_file(\"MasterPlan2019LandUselayer.geojson\")"
   ]
  },
  {
   "cell_type": "code",
   "execution_count": null,
   "id": "fa8aaf8f-c09e-4a6c-b31f-4c0338771b1a",
   "metadata": {},
   "outputs": [],
   "source": [
    "# Write a simple function to extract the land use description from the HTML string\n",
    "def extract_landuse_description(string):\n",
    "    results = re.findall('<td>([A-Z0-9&/\\- ]*)</td>', string)\n",
    "    if len(results) >= 2:\n",
    "        return results[0]\n",
    "    else:\n",
    "        raise AssertionError(\"No land use information detected\")"
   ]
  },
  {
   "cell_type": "code",
   "execution_count": null,
   "id": "4ecfcaba-b1da-4752-9bfd-a13807a387b6",
   "metadata": {},
   "outputs": [],
   "source": [
    "MP19_LandUse['LandUse'] = MP19_LandUse['Description'].apply(extract_landuse_description)"
   ]
  },
  {
   "cell_type": "code",
   "execution_count": null,
   "id": "0e342de1-de78-4579-8e86-e68718109436",
   "metadata": {},
   "outputs": [],
   "source": [
    "# Check if our function ran correctly\n",
    "MP19_LandUse.head()"
   ]
  },
  {
   "cell_type": "markdown",
   "id": "48bafd05-6f45-49c1-91e0-ac4fd5a8ca8f",
   "metadata": {},
   "source": [
    "<span style=\"background-color: #FFFF00\">**Exercise:** How many different land use categories are there? What is the most commmon land use for land parcels in Singapore?</span>"
   ]
  },
  {
   "cell_type": "code",
   "execution_count": null,
   "id": "46540702-374d-4a9b-80ef-13f078cac63d",
   "metadata": {},
   "outputs": [],
   "source": [
    "# Fill this part in yourself (two lines only)\n"
   ]
  },
  {
   "cell_type": "markdown",
   "id": "a658906b-cf06-40e8-98b8-03f244ee0860",
   "metadata": {},
   "source": [
    "<span style=\"background-color: #FFFF00\">**Exercise:** Generate a Folium map of land use parcels in Singapore, with each land use type coloured differently.</span>"
   ]
  },
  {
   "cell_type": "code",
   "execution_count": null,
   "id": "7dbce286-eca2-420e-aa1e-d88e784e25b4",
   "metadata": {},
   "outputs": [],
   "source": [
    "# Run this to clean up some invalid polygons\n",
    "MP19_LandUse['geometry'] = MP19_LandUse['geometry'].buffer(0)\n",
    "\n",
    "# Run this to aggregate the large dataset into something more manageable for visualisation\n",
    "MP19_LandUse_Agg = MP19_LandUse[['LandUse', 'geometry']].dissolve(by = 'LandUse').reset_index()"
   ]
  },
  {
   "cell_type": "code",
   "execution_count": null,
   "id": "21138a2b-fb3b-4796-8982-277ea7d876ec",
   "metadata": {},
   "outputs": [],
   "source": [
    "MP19_LandUse_Agg.head()"
   ]
  },
  {
   "cell_type": "code",
   "execution_count": null,
   "id": "a61ba84f-8a9e-41d4-ba56-ed41e01000d5",
   "metadata": {},
   "outputs": [],
   "source": [
    "# Fill this part in yourself\n"
   ]
  },
  {
   "cell_type": "markdown",
   "id": "94f680a2-f84c-4aa5-9551-3bd8628b9d5c",
   "metadata": {},
   "source": [
    "<span style=\"background-color: #FFFF00\">**Class Discussion:** What do you observe about how land use is distributed across Singapore?</span>\n",
    "* What do you think are the differences between `Business 1` and `Business 2` areas? How does this show up in where they are found in Singapore?\n",
    "* There are some mixed-use land parcels (like residential and commmercial). Where are they usually found at, and why do you think that is the case?\n",
    "* Where are the largest reserve sites at? What do you think they will be used for?\n",
    "* How would you improve how this map is visualised?"
   ]
  },
  {
   "cell_type": "markdown",
   "id": "b1b9d9cb-176e-4c81-a0c4-2c4edf312e94",
   "metadata": {},
   "source": [
    "<span style=\"background-color: #FFFF00\">**Exercise:** Calculate the area (in kilometre squared) for each land use category, and identify the category with the largest land use in Singapore.</span>"
   ]
  },
  {
   "cell_type": "code",
   "execution_count": null,
   "id": "3669bdc6-227e-4952-b539-983466dff746",
   "metadata": {},
   "outputs": [],
   "source": [
    "# To do this correctly, you'll need to reproject the CRS from a geographic CRS to a projected CRS\n",
    "MP19_LandUse_Agg_reproj = MP19_LandUse_Agg.to_crs(3857)"
   ]
  },
  {
   "cell_type": "code",
   "execution_count": null,
   "id": "258c4d36-789d-45f0-b4a6-489b4d223a27",
   "metadata": {},
   "outputs": [],
   "source": [
    "# Fill this in (two lines only)\n"
   ]
  },
  {
   "cell_type": "markdown",
   "id": "70b9fcc0-5c1b-40a3-9023-4fc9be7c0a64",
   "metadata": {},
   "source": [
    "## 2) HDB Flats\n",
    "\n",
    "In this section, we explore the HDB Property Information dataset. This is not strictly a geospatial dataset, but it provides the address which we can geocode to get the latitude and longitude, with which we can do further geospatial analysis. This section will show you how to geocode data and combine it with other geospatial data types using geospatial operations."
   ]
  },
  {
   "cell_type": "code",
   "execution_count": null,
   "id": "b0af8179-6703-48a1-91c4-da686809e3cc",
   "metadata": {},
   "outputs": [],
   "source": [
    "hdb_property_info = pd.read_csv('HDBPropertyInformation.csv')"
   ]
  },
  {
   "cell_type": "code",
   "execution_count": null,
   "id": "4149f629-cbb1-4704-91f0-885db628afc4",
   "metadata": {},
   "outputs": [],
   "source": [
    "hdb_property_info"
   ]
  },
  {
   "cell_type": "markdown",
   "id": "5eefde4b-d614-40df-b929-e6972a1c67e5",
   "metadata": {},
   "source": [
    "<span style=\"background-color: #FFFF00\">**Exercise:** How many HDB flats are there in Singapore? How many HDB blocks are there?</span>"
   ]
  },
  {
   "cell_type": "code",
   "execution_count": null,
   "id": "08566db3-d073-4aeb-8269-bb8d3649a0ab",
   "metadata": {},
   "outputs": [],
   "source": [
    "# Fill this part in yourself (two lines only)\n"
   ]
  },
  {
   "cell_type": "markdown",
   "id": "16d84a8c-99d6-424e-affb-6abafbd30f4b",
   "metadata": {},
   "source": [
    "<span style=\"background-color: #FFFF00\">**Exercise:** Plot a line chart showing how many HDB flats were built annually since the beginning till today.</span>"
   ]
  },
  {
   "cell_type": "code",
   "execution_count": null,
   "id": "d428c4ef-e80b-436a-a232-400729ae1a15",
   "metadata": {},
   "outputs": [],
   "source": [
    "# Fill this part in yourself (one line only)\n"
   ]
  },
  {
   "cell_type": "markdown",
   "id": "f036a23a-8418-4182-8bad-c2018928ebd3",
   "metadata": {},
   "source": [
    "This is fairly basic data analysis, so let's turn it into a geospatial dataset. We need to convert the address into a point by finding its coordinates (latitude and longitude). You can do this for free by using Singapore's OneMap API - you can find the documentation [here](https://www.onemap.gov.sg/apidocs/apidocs).\n",
    "\n",
    "For the `Search` endpoint, you don't need any authentication. For the other endpoints, you need to pass in an API key as well, which you can sign up for [here](https://www.onemap.gov.sg/apidocs/register)."
   ]
  },
  {
   "cell_type": "markdown",
   "id": "bcffb13b-6099-4946-960f-96df13a65856",
   "metadata": {},
   "source": [
    "<span style=\"background-color: #FFFF00\">**Exercise:** Write a function that takes the address as input, calls the OneMap Search API, and returns the latitude and longitude.</span>"
   ]
  },
  {
   "cell_type": "code",
   "execution_count": null,
   "id": "1e419b4d-aa8f-4c60-ac75-e3d27124c265",
   "metadata": {},
   "outputs": [],
   "source": [
    "# Fill in the function here\n",
    "def call_onemap_api(address):\n",
    "    \n",
    "    return {\n",
    "        'Longitude': # Fill this in,\n",
    "        'Latitude': # Fill this in\n",
    "    }"
   ]
  },
  {
   "cell_type": "code",
   "execution_count": null,
   "id": "c189d1e9-af50-46dc-beb7-58d1f527b3dd",
   "metadata": {},
   "outputs": [],
   "source": [
    "# Test your function here\n",
    "\n",
    "# It should return {'Longitude': '103.781566663057', 'Latitude': '1.30591387643498'}\n",
    "print(call_onemap_api('26 DOVER CRES'))\n",
    "\n",
    "# It should return {'Longitude': '103.884012115114', 'Latitude': '1.30129028933217'}\n",
    "print(call_onemap_api('6 JLN BATU'))\n",
    "\n",
    "# It should return {'Longitude': '103.847769289898', 'Latitude': '1.33862553170269'}\n",
    "print(call_onemap_api('97 LOR 3 TOA PAYOH'))"
   ]
  },
  {
   "cell_type": "code",
   "execution_count": null,
   "id": "c3580cf3-6ce3-4db3-9612-798280172c1e",
   "metadata": {},
   "outputs": [],
   "source": [
    "hdb_property_info['Address'] = hdb_property_info['blk_no'] + \" \" + hdb_property_info['street']"
   ]
  },
  {
   "cell_type": "code",
   "execution_count": null,
   "id": "d7cf3233-7e96-4b80-b0f4-abb1db2c1522",
   "metadata": {},
   "outputs": [],
   "source": [
    "# This will take a while as we are calling the API over 12k times\n",
    "#geocode_output = []\n",
    "for i, address in tqdm(enumerate(hdb_property_info['Address'])):\n",
    "\n",
    "    # If the HDB property has already been geocoded before, we check if it failed precisely\n",
    "    if i < len(geocode_output):\n",
    "\n",
    "        # If it failed previously, we retry it\n",
    "        if geocode_output[i]['Longitude'] is None:\n",
    "            try:\n",
    "                geocode_output[i] = call_onemap_api(address)\n",
    "            except AssertionError:\n",
    "                geocode_output[i] = {'Longitude': None, 'Latitude': None}\n",
    "\n",
    "    # If it hasn't been geocoded before, we geocode it now\n",
    "    else:\n",
    "        try:\n",
    "            geocode_output.append(call_onemap_api(address))\n",
    "        except AssertionError:\n",
    "            geocode_output.append({'Longitude': None, 'Latitude': None})"
   ]
  },
  {
   "cell_type": "code",
   "execution_count": null,
   "id": "b22c853b-ec78-49a5-9fc1-1da4c2076ca2",
   "metadata": {},
   "outputs": [],
   "source": [
    "hdb_property_info = pd.concat([hdb_property_info, pd.DataFrame(geocode_output)], axis = 1)"
   ]
  },
  {
   "cell_type": "markdown",
   "id": "7e2cfc45-5148-47a6-a41f-e15ab7d18af7",
   "metadata": {},
   "source": [
    "The full dataset has been done for you in the interests of time, so just read in the data using the command below."
   ]
  },
  {
   "cell_type": "code",
   "execution_count": null,
   "id": "46e42a3f-27ef-480b-9dbf-05fd2def774f",
   "metadata": {},
   "outputs": [],
   "source": [
    "#hdb_property_info.to_csv(\"HDBPropertyInformation_LatLon.csv\", index = False)\n",
    "hdb_property_info = pd.read_csv(\"HDBPropertyInformation_LatLon.csv\")"
   ]
  },
  {
   "cell_type": "code",
   "execution_count": null,
   "id": "eb23b812-34f6-486f-83b7-dc82a053a654",
   "metadata": {},
   "outputs": [],
   "source": [
    "# Convert it into a GeoDataFrame\n",
    "hdb_property_info_gdf = geopandas.GeoDataFrame(hdb_property_info, \n",
    "                                               geometry = geopandas.points_from_xy(hdb_property_info.Longitude, hdb_property_info.Latitude),\n",
    "                                               crs = \"EPSG:4326\")"
   ]
  },
  {
   "cell_type": "code",
   "execution_count": null,
   "id": "d25fa455-f855-4baa-ba60-311aab3ffa02",
   "metadata": {},
   "outputs": [],
   "source": [
    "hdb_property_info_gdf.head()"
   ]
  },
  {
   "cell_type": "code",
   "execution_count": null,
   "id": "d8868404-1594-4bf6-a129-463903bb10b4",
   "metadata": {},
   "outputs": [],
   "source": [
    "hdb_flat_info_gdf = hdb_property_info_gdf[hdb_property_info_gdf['residential'] == 'Y'].reset_index(drop = True)"
   ]
  },
  {
   "cell_type": "markdown",
   "id": "5fbf411e-608c-48b2-bbe9-aff76569ad7f",
   "metadata": {},
   "source": [
    "<span style=\"background-color: #FFFF00\">**Class Discussion:** What is the main difference between the GeoDataFrame and the original dataframe that you read in from the CSV file? Why is this significant?</span>"
   ]
  },
  {
   "cell_type": "markdown",
   "id": "c6d3e8c3-1b1b-4106-891a-6f54a6c58a50",
   "metadata": {},
   "source": [
    "With the geospatial data loaded, we can now plot our HDB flats data. Let's do a simpler static plot this time, and overlay it with the Master Plan 2019 subzones data so we can roughly tell where the HDB flats are."
   ]
  },
  {
   "cell_type": "code",
   "execution_count": null,
   "id": "5688e3a9-2194-4f7e-9fb1-ff408a18b61c",
   "metadata": {},
   "outputs": [],
   "source": [
    "ax = MP19_Subzone.plot(color = \"white\", edgecolor = \"black\", figsize = (12, 9))\n",
    "hdb_flat_info_gdf.plot(ax = ax, color = 'blue', markersize = 0.5)\n",
    "plt.show()"
   ]
  },
  {
   "cell_type": "code",
   "execution_count": null,
   "id": "f032dce0-c85d-4f4c-a79c-4a922c748bb4",
   "metadata": {},
   "outputs": [],
   "source": [
    "ax = MP19_Subzone.plot(color = \"white\", edgecolor = \"black\", figsize = (12, 9))\n",
    "hdb_flat_info_gdf.plot(ax = ax, \n",
    "                       markersize = 0.5,\n",
    "                       column = hdb_flat_info_gdf['year_completed'],\n",
    "                       legend = True)\n",
    "plt.show()"
   ]
  },
  {
   "cell_type": "markdown",
   "id": "7b055bac-b934-4bbc-a288-9fdefe2fad10",
   "metadata": {},
   "source": [
    "<span style=\"background-color: #FFFF00\">**Class Discussion:** Just looking at the plots above, what do you observe from these static geospatial plots?</span>\n",
    "* Where are the older flats concentrated at? How about the newer flats? Is this similar to what you had expected before plotting out the data?\n",
    "* In which subzones are the concentration of HDB flats among the highest? How about residential subzones with few HDB flats - which ones do you think would make the top of the list?"
   ]
  },
  {
   "cell_type": "markdown",
   "id": "a5414c9b-4b8e-474b-9470-4e5e80e777ed",
   "metadata": {},
   "source": [
    "<span style=\"background-color: #FFFF00\">**Exercise:** Find out which subzone has the highest average age of HDB flats. Then find out which subzone has the lowest average age of HDB flats.</span>\n"
   ]
  },
  {
   "cell_type": "code",
   "execution_count": null,
   "id": "60878b9b-4cee-427d-ab13-11906a216888",
   "metadata": {},
   "outputs": [],
   "source": [
    "# Fill it in here\n"
   ]
  },
  {
   "cell_type": "markdown",
   "id": "e80d7180-f73c-4ab8-a57c-00bdb0dce9bf",
   "metadata": {},
   "source": [
    "<span style=\"background-color: #FFFF00\">**Exercise:** Which subzone has the highest concentration of HDB flats (total number of flats divided by km^2)?</span>"
   ]
  },
  {
   "cell_type": "code",
   "execution_count": null,
   "id": "59d55737-977d-4d4c-9210-58580764d363",
   "metadata": {},
   "outputs": [],
   "source": [
    "# Fill this in\n"
   ]
  },
  {
   "cell_type": "markdown",
   "id": "13f16f2d-49d9-4f0a-a1d0-73059eea5532",
   "metadata": {},
   "source": [
    "<span style=\"background-color: #FFFF00\">**Class Discussion:** Do you spot anything odd with the subzones with the lowest flat densities?</span>"
   ]
  },
  {
   "cell_type": "markdown",
   "id": "19bd7684-2447-4e6a-ac54-0ab2e78c91f9",
   "metadata": {},
   "source": [
    "## 3) LTA Public Transport\n",
    "\n",
    "In this section, we explore LTA's public transportation data, specifically the Bus Stops API. You will learn how to call APIs (if you don't already know), convert it into a GeoDataFrame, visualise it, and compute distances between two points."
   ]
  },
  {
   "cell_type": "code",
   "execution_count": null,
   "id": "6ec3bfb1-0b30-46af-a0dc-71ff06651b68",
   "metadata": {},
   "outputs": [],
   "source": [
    "# Note that you need to sign up for your own account and API key first\n",
    "# Sign up here: https://datamall.lta.gov.sg/content/datamall/en/request-for-api.html\n",
    "lta_api_key = \"\""
   ]
  },
  {
   "cell_type": "markdown",
   "id": "b83d7fef-d3d0-4fe1-b147-65f1ee4fc776",
   "metadata": {},
   "source": [
    "<span style=\"background-color: #FFFF00\">**Exercise:** Write a function that calls the Bus Stops API and saves all the information into a Pandas dataframe. Then convert it into a GeoPandas dataframe.</span>   \n",
    "*Hint: Read through the API documentation [here](https://datamall.lta.gov.sg/content/dam/datamall/datasets/LTA_DataMall_API_User_Guide.pdf)*"
   ]
  },
  {
   "cell_type": "code",
   "execution_count": null,
   "id": "482ab8bf-3f13-494e-9559-2ee514d4a9c4",
   "metadata": {},
   "outputs": [],
   "source": [
    "def call_bus_stop_api(lta_api_key):\n",
    "\n",
    "    # fill in the function here\n",
    "\n",
    "    return df"
   ]
  },
  {
   "cell_type": "code",
   "execution_count": null,
   "id": "7cf4faae-d339-47b6-89ec-de028a4be557",
   "metadata": {},
   "outputs": [],
   "source": [
    "# Test your function here\n",
    "bus_stops = call_bus_stop_api(lta_api_key)"
   ]
  },
  {
   "cell_type": "code",
   "execution_count": null,
   "id": "aa192930-4060-4d27-923e-dc03707d5a85",
   "metadata": {},
   "outputs": [],
   "source": [
    "# You should see the shape as (5134, 5)\n",
    "bus_stops.shape"
   ]
  },
  {
   "cell_type": "code",
   "execution_count": null,
   "id": "bf3520bc-3cfd-4475-8cfa-00591ac8f48d",
   "metadata": {},
   "outputs": [],
   "source": [
    "bus_stops.head()"
   ]
  },
  {
   "cell_type": "code",
   "execution_count": null,
   "id": "2e1d4da6-41cd-4c6e-8815-b87835ea9f14",
   "metadata": {},
   "outputs": [],
   "source": [
    "# Convert it into a GeoDataFrame (one line only)\n"
   ]
  },
  {
   "cell_type": "code",
   "execution_count": null,
   "id": "16433bf6-aa4b-4a73-bf04-7d33867d616b",
   "metadata": {},
   "outputs": [],
   "source": [
    "# Check that it ran correctly\n",
    "ax = MP19_Subzone.plot(color = \"white\", edgecolor = \"black\", figsize = (12, 9))\n",
    "bus_stops_gdf.plot(ax = ax, color = 'red', markersize = 0.5)\n",
    "plt.show()"
   ]
  },
  {
   "cell_type": "markdown",
   "id": "1575a2d6-0eaf-4d42-9d36-d6b42f9a68da",
   "metadata": {},
   "source": [
    "<span style=\"background-color: #FFFF00\">**Class Discussion:** What do you observe from the plot above? Are there any interesting observations that you can notice immediately?</span>\n",
    "* Are there any bus stops that in surprising locations?\n",
    "* Some subzones have a lot of bus stops, while some have very few bus stops. Can you identify which ones, and guess why that is the case?"
   ]
  },
  {
   "cell_type": "markdown",
   "id": "51707ba9-bc3d-4f21-858f-bfca56e83156",
   "metadata": {},
   "source": [
    "<span style=\"background-color: #FFFF00\">**Exercise:** Which subzone has the most number of bus stops? Which subzone has the least number (non-zero) of bus stops?</span>   \n"
   ]
  },
  {
   "cell_type": "code",
   "execution_count": null,
   "id": "8acfec00-b801-455c-87bc-50d116f5793b",
   "metadata": {},
   "outputs": [],
   "source": [
    "# Fill in your code here\n"
   ]
  },
  {
   "cell_type": "markdown",
   "id": "644c10cf-12cf-48df-b866-0b70d5a42628",
   "metadata": {},
   "source": [
    "This looks a bit strange especially at the lower end, since Maxwell and Little India are right in the middle of town. Let's investigate this further by generating an interactive map so we can zoom into those two subzones and see what's happening."
   ]
  },
  {
   "cell_type": "markdown",
   "id": "4311b584-e262-40b1-bbbf-df27c7cc3765",
   "metadata": {},
   "source": [
    "<span style=\"background-color: #FFFF00\">**Exercise:** Generate a Folium map with all the bus stops overlaid over the Master Plan 2019 subzones. Make sure to include tooltips for each of the bus stops.</span>   "
   ]
  },
  {
   "cell_type": "code",
   "execution_count": null,
   "id": "093877c8-6042-4fbf-844c-24de8be933dd",
   "metadata": {},
   "outputs": [],
   "source": [
    "# Fill this in\n"
   ]
  },
  {
   "cell_type": "markdown",
   "id": "1fe3baa1-e080-4427-9733-be6e8c0a88a0",
   "metadata": {},
   "source": [
    "Now that we can see the distribution of bus stops over Singapore, how about its relation to HDB flats? We all like to have bus stops nearby, but which HDB flat is closest to a bus stop, and which HDB flat is furthest away?\n",
    "\n",
    "<span style=\"background-color: #FFFF00\">**Exercise:** Find which HDB flat is the closest to any bus stop, and indicate the distance in metres. Then find which HDB flat is furthest, and how far it is away.</span>   "
   ]
  },
  {
   "cell_type": "code",
   "execution_count": null,
   "id": "b6624297-d902-442e-8703-4f32af589e43",
   "metadata": {},
   "outputs": [],
   "source": [
    "# Fill this in\n"
   ]
  }
 ],
 "metadata": {
  "kernelspec": {
   "display_name": "Python 3 (ipykernel)",
   "language": "python",
   "name": "python3"
  },
  "language_info": {
   "codemirror_mode": {
    "name": "ipython",
    "version": 3
   },
   "file_extension": ".py",
   "mimetype": "text/x-python",
   "name": "python",
   "nbconvert_exporter": "python",
   "pygments_lexer": "ipython3",
   "version": "3.11.5"
  }
 },
 "nbformat": 4,
 "nbformat_minor": 5
}
